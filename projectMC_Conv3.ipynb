{
 "cells": [
  {
   "cell_type": "code",
   "execution_count": 14,
   "metadata": {},
   "outputs": [],
   "source": [
    "import numpy as np\n",
    "import tensorflow as tf\n",
    "from tensorflow.keras.datasets import mnist\n",
    "from tensorflow import keras\n",
    "from tensorflow.keras import layers\n",
    "import pickle\n",
    "import os\n",
    "import shutil\n",
    "from tensorflow.keras.utils import image_dataset_from_directory\n",
    "from tensorflow.keras.preprocessing import image\n",
    "import os\n",
    "import numpy as np\n",
    "from keras.preprocessing.image import ImageDataGenerator\n",
    "from keras import models\n",
    "from keras import layers\n",
    "from keras.preprocessing.image import ImageDataGenerator\n",
    "from keras import optimizers\n",
    "import matplotlib.pyplot as plt\n",
    "\n",
    "\n",
    "from keras.applications import VGG16"
   ]
  },
  {
   "cell_type": "code",
   "execution_count": 15,
   "metadata": {},
   "outputs": [],
   "source": [
    "#tumordata = \"archive/training\"\n",
    "#data_from_kaggle_test = \"data-from-kaggle/test1\"\n",
    "#data_dirname = \"tumordetection\""
   ]
  },
  {
   "cell_type": "code",
   "execution_count": 16,
   "metadata": {},
   "outputs": [],
   "source": [
    "def make_dataset(subset_name, start_idx, end_idx):\n",
    "    for category in { \"tr-no\", \"tumor\" }:\n",
    "        # data_dirname/subset_name/categoroy \n",
    "        dir = f\"{data_dirname}/{subset_name}/{category}\"\n",
    "        # print(dir)\n",
    "        os.makedirs(dir)\n",
    "        fnames = [f\"{category}.{i}.jpg\" for i in range(start_idx, end_idx)]\n",
    "        # print(fnames)\n",
    "        for fname in fnames: \n",
    "                shutil.copyfile(src=f\"{tumordata}/{fname}\", dst=f\"{dir}/{fname}\") \n"
   ]
  },
  {
   "cell_type": "code",
   "execution_count": 17,
   "metadata": {},
   "outputs": [],
   "source": [
    "base_dir = \"tumordata\"\n",
    "train_dir = os.path.join(base_dir, 'Training')\n",
    "validation_dir = os.path.join(base_dir, 'Validation')\n",
    "test_dir = os.path.join(base_dir, 'Testing')\n",
    "datagen = ImageDataGenerator(rescale=1./255)"
   ]
  },
  {
   "cell_type": "code",
   "execution_count": 18,
   "metadata": {},
   "outputs": [],
   "source": [
    "conv_base = VGG16(weights='imagenet',\n",
    "        include_top=False,\n",
    "        input_shape=(256, 256, 3))"
   ]
  },
  {
   "cell_type": "code",
   "execution_count": 19,
   "metadata": {},
   "outputs": [],
   "source": [
    "batch_size = 20"
   ]
  },
  {
   "cell_type": "code",
   "execution_count": 20,
   "metadata": {},
   "outputs": [],
   "source": [
    "def extract_features(directory, sample_count):\n",
    "    features = np.zeros(shape=(sample_count, 5, 5, 512))\n",
    "    labels = np.zeros(shape=(sample_count))\n",
    "    generator = datagen.flow_from_directory(\n",
    "    directory,\n",
    "    target_size=(256, 256),\n",
    "    batch_size= batch_size,\n",
    "    class_mode='categorical')\n",
    "    i=0\n",
    "    for inputs_batch, labels_batch in generator:\n",
    "        features_batch = conv_base.predict(inputs_batch)\n",
    "        features[i * batch_size : (i + 1) * batch_size] = features_batch\n",
    "        labels[i * batch_size : (i + 1) * batch_size] = labels_batch\n",
    "        i += 1\n",
    "        if i * batch_size >= sample_count:\n",
    "            break\n",
    "    return features, labels"
   ]
  },
  {
   "cell_type": "code",
   "execution_count": null,
   "metadata": {},
   "outputs": [],
   "source": []
  },
  {
   "cell_type": "code",
   "execution_count": 21,
   "metadata": {},
   "outputs": [],
   "source": [
    "#train_features, train_labels = extract_features(train_dir, 1000)\n",
    "#validation_features, validation_labels = extract_features(validation_dir, 10)\n",
    "#test_features, test_labels = extract_features(test_dir, 1000)\n",
    "\n",
    "\n",
    "#train_features = np.reshape(train_features, (1000, 5*5* 512))\n",
    "#validation_features = np.reshape(validation_features, (10, 5*5* 512))\n",
    "#test_features = np.reshape(test_features, (1000, 5*5* 512))\n"
   ]
  },
  {
   "cell_type": "code",
   "execution_count": 22,
   "metadata": {},
   "outputs": [],
   "source": [
    "def build_model():\n",
    "        conv_base = VGG16(weights='imagenet',\n",
    "                include_top=False,\n",
    "                input_shape=(256, 256, 3))\n",
    "        conv_base.trainable = False\n",
    "        model = models.Sequential()\n",
    "        model.add(conv_base)\n",
    "        model.add(layers.GlobalAveragePooling2D())\n",
    "        model.add(layers.Dense(1024,activation='relu'))\n",
    "        model.add(layers.Dense(1024,activation='relu'))\n",
    "        model.add(layers.Dense(512, activation='relu'))\n",
    "        model.add(layers.Dropout(0.2))\n",
    "        model.add(layers.Dense(4, activation='softmax'))\n",
    "   \n",
    "        return model"
   ]
  },
  {
   "cell_type": "code",
   "execution_count": 23,
   "metadata": {},
   "outputs": [],
   "source": [
    "mode = build_model()"
   ]
  },
  {
   "cell_type": "code",
   "execution_count": 24,
   "metadata": {},
   "outputs": [
    {
     "name": "stdout",
     "output_type": "stream",
     "text": [
      "Model: \"sequential_1\"\n",
      "_________________________________________________________________\n",
      " Layer (type)                Output Shape              Param #   \n",
      "=================================================================\n",
      " vgg16 (Functional)          (None, 8, 8, 512)         14714688  \n",
      "                                                                 \n",
      " global_average_pooling2d_1  (None, 512)               0         \n",
      "  (GlobalAveragePooling2D)                                       \n",
      "                                                                 \n",
      " dense_4 (Dense)             (None, 1024)              525312    \n",
      "                                                                 \n",
      " dense_5 (Dense)             (None, 1024)              1049600   \n",
      "                                                                 \n",
      " dense_6 (Dense)             (None, 512)               524800    \n",
      "                                                                 \n",
      " dropout_1 (Dropout)         (None, 512)               0         \n",
      "                                                                 \n",
      " dense_7 (Dense)             (None, 4)                 2052      \n",
      "                                                                 \n",
      "=================================================================\n",
      "Total params: 16816452 (64.15 MB)\n",
      "Trainable params: 2101764 (8.02 MB)\n",
      "Non-trainable params: 14714688 (56.13 MB)\n",
      "_________________________________________________________________\n"
     ]
    }
   ],
   "source": [
    "mode.summary()"
   ]
  },
  {
   "cell_type": "code",
   "execution_count": 25,
   "metadata": {},
   "outputs": [],
   "source": [
    "import matplotlib.pyplot as plt\n",
    "from tensorflow.keras.preprocessing.image import ImageDataGenerator\n",
    "from tensorflow.keras import optimizers\n",
    "from tensorflow.keras.models import load_model\n",
    "\n",
    "def fit20(model):\n",
    "    train_dir = os.path.join(base_dir, 'Training')\n",
    "    batch_size = 20\n",
    "\n",
    "    train_datagen = ImageDataGenerator(\n",
    "        rescale=1./255,\n",
    "        rotation_range=40,\n",
    "        width_shift_range=0.2,\n",
    "        height_shift_range=0.2,\n",
    "        shear_range=0.2,\n",
    "        zoom_range=0.2,\n",
    "        horizontal_flip=True,\n",
    "        fill_mode='nearest',\n",
    "        #validation_split=0.2  # 20% of the training data will be used for validation\n",
    "    )\n",
    "\n",
    "    train_generator = train_datagen.flow_from_directory(\n",
    "        train_dir,\n",
    "        target_size=(256, 256),\n",
    "        batch_size=batch_size,\n",
    "        class_mode='categorical',\n",
    "        #subset='training'  # Use the training subset of the data\n",
    "    )\n",
    "\n",
    "    validation_generator = train_datagen.flow_from_directory(\n",
    "        validation_dir,\n",
    "        target_size=(256, 256),\n",
    "        batch_size=batch_size,\n",
    "        class_mode='categorical',\n",
    "        #subset='validation'  # Use the validation subset of the data\n",
    "    )\n",
    "\n",
    "    model.compile(\n",
    "        optimizer='adam',  # Using Adam optimizer\n",
    "        loss='CategoricalCrossentropy',\n",
    "        metrics=['CategoricalAccuracy']\n",
    "    )\n",
    "    callback = tf.keras.callbacks.EarlyStopping(monitor='val_loss', patience=10)\n",
    "    \n",
    "\n",
    "    history = model.fit(\n",
    "        train_generator,\n",
    "        steps_per_epoch=100,\n",
    "        epochs=100,\n",
    "        validation_data=validation_generator,\n",
    "        validation_steps=50,\n",
    "        callbacks=[callback]\n",
    "    )\n",
    "\n",
    "    model.save(\"Omar_Rabbah_MultiClass\")\n",
    "\n",
    "    # Plotting the training and validation metrics\n",
    "    acc = history.history['categorical_accuracy'] \n",
    "    val_acc = history.history['val_categorical_accuracy']  \n",
    "    loss = history.history['loss']\n",
    "    val_loss = history.history['val_loss']\n",
    "    epochs = range(1, len(acc) + 1)\n",
    "\n",
    "    # Plotting accuracy\n",
    "    plt.plot(epochs, acc, 'bo', label='Training acc')\n",
    "    plt.plot(epochs, val_acc, 'b', label='Validation acc')\n",
    "    plt.title('Training and validation accuracy')\n",
    "    plt.legend()\n",
    "    plt.show()  \n",
    "\n",
    "    # Plotting loss\n",
    "    plt.figure()\n",
    "    plt.plot(epochs, loss, 'bo', label='Training loss')\n",
    "    plt.plot(epochs, val_loss, 'b', label='Validation loss')\n",
    "    plt.title('Training and validation loss')\n",
    "    plt.legend()\n",
    "    plt.show()  \n",
    "\n",
    "\n"
   ]
  },
  {
   "cell_type": "code",
   "execution_count": 26,
   "metadata": {},
   "outputs": [
    {
     "name": "stdout",
     "output_type": "stream",
     "text": [
      "Found 4604 images belonging to 4 classes.\n",
      "Found 1108 images belonging to 4 classes.\n",
      "Epoch 1/3\n",
      "1/1 [==============================] - 34s 34s/step - loss: 1.3802 - categorical_accuracy: 0.3000 - val_loss: 2.2170 - val_categorical_accuracy: 0.2000\n",
      "Epoch 2/3\n",
      "1/1 [==============================] - 31s 31s/step - loss: 1.9447 - categorical_accuracy: 0.2500 - val_loss: 1.7464 - val_categorical_accuracy: 0.2000\n",
      "Epoch 3/3\n",
      "1/1 [==============================] - 31s 31s/step - loss: 1.7845 - categorical_accuracy: 0.2000 - val_loss: 1.3182 - val_categorical_accuracy: 0.3000\n",
      "INFO:tensorflow:Assets written to: Omar_Rabbah_MultiClass\\assets\n"
     ]
    },
    {
     "name": "stderr",
     "output_type": "stream",
     "text": [
      "INFO:tensorflow:Assets written to: Omar_Rabbah_MultiClass\\assets\n"
     ]
    },
    {
     "data": {
      "image/png": "[encoded data removed]",
      "text/plain": [
       "<Figure size 640x480 with 1 Axes>"
      ]
     },
     "metadata": {},
     "output_type": "display_data"
    },
    {
     "data": {
      "image/png": "[encoded data removed]",
      "text/plain": [
       "<Figure size 640x480 with 1 Axes>"
      ]
     },
     "metadata": {},
     "output_type": "display_data"
    }
   ],
   "source": [
    "\n",
    "\n",
    "fit20(mode)"
   ]
  }
 ],
 "metadata": {
  "kernelspec": {
   "display_name": "base",
   "language": "python",
   "name": "python3"
  },
  "language_info": {
   "codemirror_mode": {
    "name": "ipython",
    "version": 3
   },
   "file_extension": ".py",
   "mimetype": "text/x-python",
   "name": "python",
   "nbconvert_exporter": "python",
   "pygments_lexer": "ipython3",
   "version": "3.11.5"
  }
 },
 "nbformat": 4,
 "nbformat_minor": 2
}
